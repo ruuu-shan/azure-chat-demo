{
 "cells": [
  {
   "cell_type": "markdown",
   "metadata": {},
   "source": [
    "## エンベディング\n",
    "1. 数値への変換の仕方\n",
    "2. 数値の表現"
   ]
  },
  {
   "cell_type": "code",
   "execution_count": null,
   "metadata": {},
   "outputs": [],
   "source": [
    "import os\n",
    "from langchain_openai import (\n",
    "    AzureOpenAIEmbeddings,\n",
    "    OpenAIEmbeddings\n",
    ")\n",
    "\n",
    "from dotenv import load_dotenv\n",
    "load_dotenv('../.env')\n"
   ]
  },
  {
   "cell_type": "markdown",
   "metadata": {},
   "source": [
    "### 1.数値への変換の仕方\n",
    " - <a href=\"https://api.python.langchain.com/en/latest/embeddings/langchain_openai.embeddings.azure.AzureOpenAIEmbeddings.html\" target=_blank>ドキュメント1</a>\n",
    " - <a href=\"https://python.langchain.com/v0.2/docs/integrations/text_embedding/azureopenai/\" target=_blank>ドキュメント2</a>\n"
   ]
  },
  {
   "cell_type": "markdown",
   "metadata": {},
   "source": [
    "#### 1-1. モデル"
   ]
  },
  {
   "cell_type": "code",
   "execution_count": null,
   "metadata": {},
   "outputs": [],
   "source": [
    "## モデルの取得\n",
    "# 3. OpenAIのembeddingモデル取得\n",
    "embeddings = None\n",
    "if os.getenv('AZURE_OPENAI_API_KEY') != \"\":\n",
    "    # Azureの場合\n",
    "    embeddings = AzureOpenAIEmbeddings(\n",
    "        azure_deployment=\"embedding\", # Azureのデプロイメント名\n",
    "        openai_api_version=\"2024-06-01\" # OpenAIのAPIバージョン\n",
    "    )\n",
    "elif os.getenv('OPENAI_API_KEY') != \"\":\n",
    "    # OpenAIの場合\n",
    "    embeddings = OpenAIEmbeddings(model=\"text-embedding-ada-002\")\n",
    "else:\n",
    "    print(\"APIKeyの設定を確認してください\")"
   ]
  },
  {
   "cell_type": "markdown",
   "metadata": {},
   "source": [
    "\n",
    "#### 1-2. 数値取得"
   ]
  },
  {
   "cell_type": "code",
   "execution_count": null,
   "metadata": {},
   "outputs": [],
   "source": [
    "text = \"これはテスト用のドキュメントです。\""
   ]
  },
  {
   "cell_type": "code",
   "execution_count": null,
   "metadata": {},
   "outputs": [],
   "source": [
    "# 1つのみ\n",
    "query_result = embeddings.embed_query(text)\n",
    "print(f\"サイズ:{len(query_result)}\")\n",
    "print(f\"5のみ確認\")\n",
    "print(query_result[:5])"
   ]
  },
  {
   "cell_type": "code",
   "execution_count": null,
   "metadata": {},
   "outputs": [],
   "source": [
    "# 配列で処理\n",
    "doc_result = embeddings.embed_documents([text])\n",
    "print(f\"サイズ:{len(doc_result[0])}\")\n",
    "print(f\"5のみ確認\")\n",
    "print(doc_result[0][:5])"
   ]
  },
  {
   "cell_type": "markdown",
   "metadata": {},
   "source": [
    "\n",
    "### 2. 数値の表現"
   ]
  },
  {
   "cell_type": "code",
   "execution_count": null,
   "metadata": {},
   "outputs": [],
   "source": [
    "perplexity = 2 \n",
    "tSNE_text_font_size = 10 \n",
    "import numpy as np\n",
    "from sklearn.manifold import TSNE\n",
    "import plotly.graph_objs as go\n",
    "import plotly.express as px\n",
    "import os\n",
    "import pandas as pd"
   ]
  },
  {
   "cell_type": "code",
   "execution_count": null,
   "metadata": {},
   "outputs": [],
   "source": [
    "texts = [\n",
    "    \"カレーたべたい\",\n",
    "    \"カツカレー食べたい\",\n",
    "    \"うどん食べたい\",\n",
    "    \"カレーを作る\",\n",
    "    \"パエリアーを作る\",\n",
    "    \"明日の天気は\",\n",
    "    \"雨だから傘を持っていく\",\n",
    "    \"晴れたらプールいく\",\n",
    "    \"雨なので家で遊ぶ\",\n",
    "    \"プログラムを勉強する\",\n",
    "    \"Pythonを勉強する\",\n",
    "    \"AIを使ったのアプリ開発\",\n",
    "    \"PythonでAIを実装\",\n",
    "]\n",
    "doc_result = embeddings.embed_documents(texts)\n",
    "doc_result = np.array(doc_result)\n",
    "doc_result.shape"
   ]
  },
  {
   "cell_type": "code",
   "execution_count": null,
   "metadata": {},
   "outputs": [],
   "source": [
    "#実行\n",
    "tsne = TSNE(n_components=2, perplexity=perplexity,random_state=0)\n",
    "np.set_printoptions(suppress=True)\n",
    "values2 = tsne.fit_transform(doc_result)"
   ]
  },
  {
   "cell_type": "code",
   "execution_count": null,
   "metadata": {},
   "outputs": [],
   "source": [
    "#可視化\n",
    "fig2 = go.Figure()\n",
    "for value, word in zip(values2, texts):\n",
    "  fig2.add_trace(\n",
    "      go.Scatter(\n",
    "          x = pd.Series(value[0]),\n",
    "          y = pd.Series(value[1]),\n",
    "          mode = 'markers+text',\n",
    "          text = word,\n",
    "          textposition=\"top center\"\n",
    "          )\n",
    ")"
   ]
  },
  {
   "cell_type": "code",
   "execution_count": null,
   "metadata": {},
   "outputs": [],
   "source": [
    "fig2.update_layout(title=dict(text='embeddingsの可視化',\n",
    "                             font=dict(size=18,\n",
    "                                       color='grey'),\n",
    "                             xref='paper', # container or paper\n",
    "                             x=0.5,\n",
    "                             y=0.9,\n",
    "                             xanchor='center'\n",
    "                            ),\n",
    "                  showlegend=False,\n",
    "                  font = dict(size = 10),\n",
    "                  width=700,\n",
    "                  height=650\n",
    "                   )\n",
    "fig2.show()\n"
   ]
  },
  {
   "cell_type": "code",
   "execution_count": null,
   "metadata": {},
   "outputs": [],
   "source": []
  }
 ],
 "metadata": {
  "kernelspec": {
   "display_name": "Python 3",
   "language": "python",
   "name": "python3"
  },
  "language_info": {
   "codemirror_mode": {
    "name": "ipython",
    "version": 3
   },
   "file_extension": ".py",
   "mimetype": "text/x-python",
   "name": "python",
   "nbconvert_exporter": "python",
   "pygments_lexer": "ipython3",
   "version": "3.10.14"
  }
 },
 "nbformat": 4,
 "nbformat_minor": 2
}
