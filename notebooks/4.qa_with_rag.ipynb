{
 "cells": [
  {
   "cell_type": "markdown",
   "metadata": {},
   "source": [
    "### RAGを使って一問一答\n",
    "1. Model読み込み\n",
    "2. PromptTemplateの設定\n",
    "3. FAISSのvector dataを取得\n",
    "4. 類似ドキュメントの取得\n",
    "5. 解答を得る"
   ]
  },
  {
   "cell_type": "code",
   "execution_count": null,
   "metadata": {},
   "outputs": [],
   "source": [
    "import os\n",
    "from langchain_community.vectorstores import FAISS\n",
    "from langchain_openai import (\n",
    "    AzureOpenAIEmbeddings,\n",
    "    OpenAIEmbeddings,\n",
    "    AzureChatOpenAI,\n",
    "    ChatOpenAI\n",
    ")\n",
    "from langchain_core.prompts import ChatPromptTemplate\n",
    "from dotenv import load_dotenv\n",
    "load_dotenv('../.env')"
   ]
  },
  {
   "cell_type": "markdown",
   "metadata": {},
   "source": [
    "#### 1. Model読み込み"
   ]
  },
  {
   "cell_type": "code",
   "execution_count": null,
   "metadata": {},
   "outputs": [],
   "source": [
    "# emmbeddingsのモデルを取得\n",
    "embeddings = None\n",
    "if os.getenv('AZURE_OPENAI_API_KEY') != \"\":\n",
    "    # Azureの場合\n",
    "    embeddings = AzureOpenAIEmbeddings(\n",
    "        azure_deployment=\"embedding\",\n",
    "        openai_api_version=\"2024-06-01\"\n",
    "    )\n",
    "elif os.getenv('OPENAI_API_KEY') != \"\":\n",
    "    # OpenAIの場合\n",
    "    embeddings = OpenAIEmbeddings(model=\"text-embedding-ada-002\")\n",
    "else:\n",
    "    print(\"APIKeyの設定を確認してください\")\n",
    "\n",
    "# chatのモデルを取得\n",
    "model = None\n",
    "if os.getenv('AZURE_OPENAI_API_KEY') != \"\":\n",
    "    # Azureの場合\n",
    "    model = AzureChatOpenAI(\n",
    "        azure_deployment=\"chat\",\n",
    "        openai_api_version=\"2024-06-01\"\n",
    "    )\n",
    "elif os.getenv('OPENAI_API_KEY') != \"\":\n",
    "    # OpenAIの場合\n",
    "    model = ChatOpenAI(model=\"gpt-4\")\n",
    "else:\n",
    "    print(\"APIKeyの設定を確認してください\")"
   ]
  },
  {
   "cell_type": "markdown",
   "metadata": {},
   "source": [
    "#### 2.PromptTemplateの設定"
   ]
  },
  {
   "cell_type": "code",
   "execution_count": null,
   "metadata": {},
   "outputs": [],
   "source": [
    "system_prompt = (\n",
    "    \"あなたは質問対応のアシスタントです。\"\n",
    "    \"質問に答えるために、検索された文脈の以下の部分を使用してください。\"\n",
    "    \"答えがわからない場合は、わからないと答えてください。\"\n",
    "    \"回答は3文以内で簡潔にしてください。\"\n",
    "    \"\\n\\n\"\n",
    "    \"{context}\"\n",
    ")\n",
    "\n",
    "prompt = ChatPromptTemplate.from_messages(\n",
    "    [\n",
    "        (\"system\", system_prompt),\n",
    "        (\"human\", \"{input}\"),\n",
    "    ]\n",
    ")"
   ]
  },
  {
   "cell_type": "code",
   "execution_count": null,
   "metadata": {},
   "outputs": [],
   "source": [
    "prompt.invoke({\"context\": \"今日の料理はカレーです\", \"input\": \"今日の料理はなんですか？\"})"
   ]
  },
  {
   "cell_type": "markdown",
   "metadata": {},
   "source": [
    "#### 3. FAISSのvector dataを取得"
   ]
  },
  {
   "cell_type": "code",
   "execution_count": null,
   "metadata": {},
   "outputs": [],
   "source": [
    "vectorstore = FAISS.load_local(\"./db\", embeddings, allow_dangerous_deserialization=True)\n",
    "retriever = vectorstore.as_retriever()"
   ]
  },
  {
   "cell_type": "markdown",
   "metadata": {},
   "source": [
    "#### 4. 類似ドキュメントの取得"
   ]
  },
  {
   "cell_type": "code",
   "execution_count": null,
   "metadata": {},
   "outputs": [],
   "source": [
    "relavant_docs = retriever.invoke(\"LLMとは何ですか？概要と特徴を教えてください。\", k=3)"
   ]
  },
  {
   "cell_type": "code",
   "execution_count": null,
   "metadata": {},
   "outputs": [],
   "source": [
    "# 類似文書を表示\n",
    "for doc in relavant_docs:\n",
    "    print(doc)\n",
    "    print(\"-----\")"
   ]
  },
  {
   "cell_type": "markdown",
   "metadata": {},
   "source": [
    "#### 5. 解答を得る"
   ]
  },
  {
   "cell_type": "code",
   "execution_count": null,
   "metadata": {},
   "outputs": [],
   "source": [
    "chain = prompt | model\n",
    "response = chain.invoke({\"context\": relavant_docs, \"input\": \"LLMとは何ですか？概要と特徴を教えてください。\"})"
   ]
  },
  {
   "cell_type": "code",
   "execution_count": null,
   "metadata": {},
   "outputs": [],
   "source": [
    "response.content"
   ]
  },
  {
   "cell_type": "code",
   "execution_count": null,
   "metadata": {},
   "outputs": [],
   "source": []
  }
 ],
 "metadata": {
  "kernelspec": {
   "display_name": "Python 3",
   "language": "python",
   "name": "python3"
  },
  "language_info": {
   "codemirror_mode": {
    "name": "ipython",
    "version": 3
   },
   "file_extension": ".py",
   "mimetype": "text/x-python",
   "name": "python",
   "nbconvert_exporter": "python",
   "pygments_lexer": "ipython3",
   "version": "3.10.14"
  }
 },
 "nbformat": 4,
 "nbformat_minor": 2
}
